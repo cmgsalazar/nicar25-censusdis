{
 "cells": [
  {
   "cell_type": "code",
   "execution_count": 4,
   "metadata": {},
   "outputs": [],
   "source": [
    "# data science imports\n",
    "import pandas as pd\n",
    "import matplotlib.pyplot as plt\n",
    "\n",
    "# census data imports\n",
    "import censusdis.data as ced\n",
    "import censusdis.maps as cem\n",
    "\n",
    "# other imports\n",
    "import os\n",
    "\n"
   ]
  },
  {
   "cell_type": "code",
   "execution_count": 6,
   "metadata": {},
   "outputs": [],
   "source": [
    "with open (\"../census_api_key.txt\", \"r\") as f:\n",
    "    CENSUS_API_KEY = f.read().strip()\n",
    "\n",
    "# print(CENSUS_API_KEY)"
   ]
  },
  {
   "cell_type": "code",
   "execution_count": 3,
   "metadata": {},
   "outputs": [
    {
     "data": {
      "text/html": [
       "<div>\n",
       "<style scoped>\n",
       "    .dataframe tbody tr th:only-of-type {\n",
       "        vertical-align: middle;\n",
       "    }\n",
       "\n",
       "    .dataframe tbody tr th {\n",
       "        vertical-align: top;\n",
       "    }\n",
       "\n",
       "    .dataframe thead th {\n",
       "        text-align: right;\n",
       "    }\n",
       "</style>\n",
       "<table border=\"1\" class=\"dataframe\">\n",
       "  <thead>\n",
       "    <tr style=\"text-align: right;\">\n",
       "      <th></th>\n",
       "      <th>YEAR</th>\n",
       "      <th>SYMBOL</th>\n",
       "      <th>DATASET</th>\n",
       "      <th>TITLE</th>\n",
       "      <th>DESCRIPTION</th>\n",
       "      <th>API BASE URL</th>\n",
       "    </tr>\n",
       "  </thead>\n",
       "  <tbody>\n",
       "    <tr>\n",
       "      <th>0</th>\n",
       "      <td>1986</td>\n",
       "      <td>CBP</td>\n",
       "      <td>cbp</td>\n",
       "      <td>1986 County Business Patterns: Business Patterns</td>\n",
       "      <td>County Business Patterns (CBP) is an annual se...</td>\n",
       "      <td>http://api.census.gov/data/1986/cbp</td>\n",
       "    </tr>\n",
       "    <tr>\n",
       "      <th>1</th>\n",
       "      <td>1987</td>\n",
       "      <td>CBP</td>\n",
       "      <td>cbp</td>\n",
       "      <td>1987 County Business Patterns: Business Patterns</td>\n",
       "      <td>County Business Patterns (CBP) is an annual se...</td>\n",
       "      <td>http://api.census.gov/data/1987/cbp</td>\n",
       "    </tr>\n",
       "    <tr>\n",
       "      <th>2</th>\n",
       "      <td>1988</td>\n",
       "      <td>CBP</td>\n",
       "      <td>cbp</td>\n",
       "      <td>1988 County Business Patterns: Business Patterns</td>\n",
       "      <td>County Business Patterns (CBP) is an annual se...</td>\n",
       "      <td>http://api.census.gov/data/1988/cbp</td>\n",
       "    </tr>\n",
       "    <tr>\n",
       "      <th>3</th>\n",
       "      <td>1989</td>\n",
       "      <td>CBP</td>\n",
       "      <td>cbp</td>\n",
       "      <td>1989 County Business Patterns: Business Patterns</td>\n",
       "      <td>County Business Patterns (CBP) is an annual se...</td>\n",
       "      <td>http://api.census.gov/data/1989/cbp</td>\n",
       "    </tr>\n",
       "    <tr>\n",
       "      <th>4</th>\n",
       "      <td>1989</td>\n",
       "      <td>CPS_BASIC_APR</td>\n",
       "      <td>cps/basic/apr</td>\n",
       "      <td>Apr 1989 Current Population Survey: Basic Monthly</td>\n",
       "      <td>To provide estimates of employment, unemployme...</td>\n",
       "      <td>http://api.census.gov/data/1989/cps/basic/apr</td>\n",
       "    </tr>\n",
       "  </tbody>\n",
       "</table>\n",
       "</div>"
      ],
      "text/plain": [
       "   YEAR         SYMBOL        DATASET  \\\n",
       "0  1986            CBP            cbp   \n",
       "1  1987            CBP            cbp   \n",
       "2  1988            CBP            cbp   \n",
       "3  1989            CBP            cbp   \n",
       "4  1989  CPS_BASIC_APR  cps/basic/apr   \n",
       "\n",
       "                                               TITLE  \\\n",
       "0   1986 County Business Patterns: Business Patterns   \n",
       "1   1987 County Business Patterns: Business Patterns   \n",
       "2   1988 County Business Patterns: Business Patterns   \n",
       "3   1989 County Business Patterns: Business Patterns   \n",
       "4  Apr 1989 Current Population Survey: Basic Monthly   \n",
       "\n",
       "                                         DESCRIPTION  \\\n",
       "0  County Business Patterns (CBP) is an annual se...   \n",
       "1  County Business Patterns (CBP) is an annual se...   \n",
       "2  County Business Patterns (CBP) is an annual se...   \n",
       "3  County Business Patterns (CBP) is an annual se...   \n",
       "4  To provide estimates of employment, unemployme...   \n",
       "\n",
       "                                    API BASE URL  \n",
       "0            http://api.census.gov/data/1986/cbp  \n",
       "1            http://api.census.gov/data/1987/cbp  \n",
       "2            http://api.census.gov/data/1988/cbp  \n",
       "3            http://api.census.gov/data/1989/cbp  \n",
       "4  http://api.census.gov/data/1989/cps/basic/apr  "
      ]
     },
     "execution_count": 3,
     "metadata": {},
     "output_type": "execute_result"
    }
   ],
   "source": [
    "df_datasets = ced.variables.all_data_sets()\n",
    "df_datasets.to_csv(\"../data/datasets.csv\", index=False)\n",
    "df_datasets.head()"
   ]
  },
  {
   "cell_type": "markdown",
   "metadata": {},
   "source": [
    "https://censusreporter.org/topics/housing/"
   ]
  },
  {
   "cell_type": "code",
   "execution_count": 19,
   "metadata": {},
   "outputs": [
    {
     "data": {
      "text/html": [
       "<div>\n",
       "<style scoped>\n",
       "    .dataframe tbody tr th:only-of-type {\n",
       "        vertical-align: middle;\n",
       "    }\n",
       "\n",
       "    .dataframe tbody tr th {\n",
       "        vertical-align: top;\n",
       "    }\n",
       "\n",
       "    .dataframe thead th {\n",
       "        text-align: right;\n",
       "    }\n",
       "</style>\n",
       "<table border=\"1\" class=\"dataframe\">\n",
       "  <thead>\n",
       "    <tr style=\"text-align: right;\">\n",
       "      <th></th>\n",
       "      <th>YEAR</th>\n",
       "      <th>DATASET</th>\n",
       "      <th>GROUP</th>\n",
       "      <th>VARIABLE</th>\n",
       "      <th>LABEL</th>\n",
       "      <th>SUGGESTED_WEIGHT</th>\n",
       "      <th>VALUES</th>\n",
       "    </tr>\n",
       "  </thead>\n",
       "  <tbody>\n",
       "    <tr>\n",
       "      <th>0</th>\n",
       "      <td>2023</td>\n",
       "      <td>acs/acs1</td>\n",
       "      <td>B25003</td>\n",
       "      <td>B25003_001E</td>\n",
       "      <td>Estimate!!Total:</td>\n",
       "      <td>NaN</td>\n",
       "      <td>None</td>\n",
       "    </tr>\n",
       "    <tr>\n",
       "      <th>1</th>\n",
       "      <td>2023</td>\n",
       "      <td>acs/acs1</td>\n",
       "      <td>B25003</td>\n",
       "      <td>B25003_002E</td>\n",
       "      <td>Estimate!!Total:!!Owner occupied</td>\n",
       "      <td>NaN</td>\n",
       "      <td>None</td>\n",
       "    </tr>\n",
       "    <tr>\n",
       "      <th>2</th>\n",
       "      <td>2023</td>\n",
       "      <td>acs/acs1</td>\n",
       "      <td>B25003</td>\n",
       "      <td>B25003_003E</td>\n",
       "      <td>Estimate!!Total:!!Renter occupied</td>\n",
       "      <td>NaN</td>\n",
       "      <td>None</td>\n",
       "    </tr>\n",
       "    <tr>\n",
       "      <th>3</th>\n",
       "      <td>2023</td>\n",
       "      <td>acs/acs1</td>\n",
       "      <td>B25003</td>\n",
       "      <td>GEO_ID</td>\n",
       "      <td>Geography</td>\n",
       "      <td>NaN</td>\n",
       "      <td>None</td>\n",
       "    </tr>\n",
       "    <tr>\n",
       "      <th>4</th>\n",
       "      <td>2023</td>\n",
       "      <td>acs/acs1</td>\n",
       "      <td>B25003</td>\n",
       "      <td>NAME</td>\n",
       "      <td>Geographic Area Name</td>\n",
       "      <td>NaN</td>\n",
       "      <td>None</td>\n",
       "    </tr>\n",
       "  </tbody>\n",
       "</table>\n",
       "</div>"
      ],
      "text/plain": [
       "   YEAR   DATASET   GROUP     VARIABLE                              LABEL  \\\n",
       "0  2023  acs/acs1  B25003  B25003_001E                   Estimate!!Total:   \n",
       "1  2023  acs/acs1  B25003  B25003_002E   Estimate!!Total:!!Owner occupied   \n",
       "2  2023  acs/acs1  B25003  B25003_003E  Estimate!!Total:!!Renter occupied   \n",
       "3  2023  acs/acs1  B25003       GEO_ID                          Geography   \n",
       "4  2023  acs/acs1  B25003         NAME               Geographic Area Name   \n",
       "\n",
       "   SUGGESTED_WEIGHT VALUES  \n",
       "0               NaN   None  \n",
       "1               NaN   None  \n",
       "2               NaN   None  \n",
       "3               NaN   None  \n",
       "4               NaN   None  "
      ]
     },
     "execution_count": 19,
     "metadata": {},
     "output_type": "execute_result"
    }
   ],
   "source": [
    "table = \"B25003\"\n",
    "var_table = ced.variables.all_variables(\"acs/acs1\", 2023, table)\n",
    "var_table.head()\n",
    "\n",
    "# ced.variables.group_tree(\"acs/acs1\", 2023, table)\n",
    "\n",
    "\n"
   ]
  },
  {
   "cell_type": "code",
   "execution_count": 45,
   "metadata": {},
   "outputs": [],
   "source": [
    "import re"
   ]
  },
  {
   "cell_type": "code",
   "execution_count": 53,
   "metadata": {},
   "outputs": [
    {
     "data": {
      "text/plain": [
       "{'B25003_001E': 'Total:',\n",
       " 'B25003_002E': 'Owner occupied',\n",
       " 'B25003_003E': 'Renter occupied',\n",
       " 'GEO_ID': 'Geography',\n",
       " 'NAME': 'Geographic Area Name'}"
      ]
     },
     "execution_count": 53,
     "metadata": {},
     "output_type": "execute_result"
    }
   ],
   "source": [
    "variables = var_table.set_index(\"VARIABLE\")[\"LABEL\"].str.replace(r\".*?!!\",\"\", regex = True).to_dict()\n",
    "variables"
   ]
  }
 ],
 "metadata": {
  "kernelspec": {
   "display_name": "env",
   "language": "python",
   "name": "python3"
  },
  "language_info": {
   "codemirror_mode": {
    "name": "ipython",
    "version": 3
   },
   "file_extension": ".py",
   "mimetype": "text/x-python",
   "name": "python",
   "nbconvert_exporter": "python",
   "pygments_lexer": "ipython3",
   "version": "3.11.8"
  }
 },
 "nbformat": 4,
 "nbformat_minor": 2
}
