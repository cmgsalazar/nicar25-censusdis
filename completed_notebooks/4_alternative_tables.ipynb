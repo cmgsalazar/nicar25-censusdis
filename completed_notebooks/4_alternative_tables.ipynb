{
 "cells": [
  {
   "cell_type": "code",
   "execution_count": 1,
   "metadata": {},
   "outputs": [],
   "source": [
    "# data science imports\n",
    "import pandas as pd\n",
    "import matplotlib.pyplot as plt\n",
    "\n",
    "# census data imports\n",
    "import censusdis.data as ced\n",
    "import censusdis.maps as cem\n",
    "from censusdis import states\n",
    "from censusdis import datasets\n",
    "\n",
    "# other imports\n",
    "import os"
   ]
  },
  {
   "cell_type": "code",
   "execution_count": 2,
   "metadata": {},
   "outputs": [],
   "source": [
    "# Load the API key\n",
    "with open(\"../census_api_key.txt\", \"r\") as f:\n",
    "    CENSUS_API_KEY = f.read().strip()\n",
    "\n",
    "# print(CENSUS_API_KEY)"
   ]
  },
  {
   "cell_type": "code",
   "execution_count": 3,
   "metadata": {},
   "outputs": [],
   "source": [
    "# max cell size\n",
    "pd.set_option(\"display.max_colwidth\", 100)\n",
    "# max length\n",
    "pd.set_option(\"display.max_rows\", 176)"
   ]
  },
  {
   "cell_type": "markdown",
   "metadata": {},
   "source": [
    "## Exploring Alternative Census Datasets"
   ]
  },
  {
   "cell_type": "code",
   "execution_count": 4,
   "metadata": {},
   "outputs": [
    {
     "data": {
      "text/plain": [
       "array(['cps/basic/apr', 'cps/basic/aug', 'cps/basic/dec', 'cps/basic/feb',\n",
       "       'cps/basic/jan', 'cps/basic/jul', 'cps/basic/jun', 'cps/basic/mar',\n",
       "       'cps/basic/may', 'cps/basic/nov', 'cps/basic/oct', 'cps/basic/sep',\n",
       "       'cps/asec/mar', 'cps/internet/nov', 'cps/school/oct',\n",
       "       'cps/voting/nov', 'cps/contworker/feb', 'cps/foodsec/apr',\n",
       "       'cps/marital/jun', 'cps/race/may', 'cps/vets/aug', 'cps/dwjt/feb',\n",
       "       'cps/internet/oct', 'cps/vets/sep', 'cps/worksched/may',\n",
       "       'cps/fertility/jun', 'cps/foodsec/aug', 'cps/internet/dec',\n",
       "       'cps/foodsec/sep', 'cps/internet/aug', 'cps/foodsec/dec',\n",
       "       'cps/internet/sep', 'cps/dwjt/jan', 'cps/library/oct',\n",
       "       'cps/pubarts/aug', 'cps/volunteer/sep', 'cps/tobacco/aug',\n",
       "       'cps/tobacco/may', 'cps/tobacco/jan', 'cps/civic/nov',\n",
       "       'cps/immigration/aug', 'cps/unbank/jan', 'cps/vets/jul',\n",
       "       'cps/internet/jul', 'cps/unbank/jun', 'cps/disability/may',\n",
       "       'cps/pubarts/jul', 'cps/arts/feb', 'cps/tobacco/jul',\n",
       "       'cps/contworker/may', 'cps/disability/jul', 'cps/tobacco/sep'],\n",
       "      dtype=object)"
      ]
     },
     "execution_count": 4,
     "metadata": {},
     "output_type": "execute_result"
    }
   ],
   "source": [
    "# look at all the datasets\n",
    "(\n",
    "    # show all, then filter for cps\n",
    "    ced.variables.all_data_sets()\n",
    "    .loc[\n",
    "        lambda x: x[\"DATASET\"].str.contains(\"cps\", case=False)\n",
    "    ]\n",
    "    [\"DATASET\"]\n",
    "    .unique()\n",
    ")"
   ]
  },
  {
   "cell_type": "code",
   "execution_count": 5,
   "metadata": {},
   "outputs": [
    {
     "data": {
      "text/html": [
       "<div>\n",
       "<style scoped>\n",
       "    .dataframe tbody tr th:only-of-type {\n",
       "        vertical-align: middle;\n",
       "    }\n",
       "\n",
       "    .dataframe tbody tr th {\n",
       "        vertical-align: top;\n",
       "    }\n",
       "\n",
       "    .dataframe thead th {\n",
       "        text-align: right;\n",
       "    }\n",
       "</style>\n",
       "<table border=\"1\" class=\"dataframe\">\n",
       "  <thead>\n",
       "    <tr style=\"text-align: right;\">\n",
       "      <th></th>\n",
       "      <th>DATASET</th>\n",
       "      <th>YEAR</th>\n",
       "      <th>GROUP</th>\n",
       "      <th>DESCRIPTION</th>\n",
       "    </tr>\n",
       "  </thead>\n",
       "  <tbody>\n",
       "  </tbody>\n",
       "</table>\n",
       "</div>"
      ],
      "text/plain": [
       "Empty DataFrame\n",
       "Columns: [DATASET, YEAR, GROUP, DESCRIPTION]\n",
       "Index: []"
      ]
     },
     "execution_count": 5,
     "metadata": {},
     "output_type": "execute_result"
    }
   ],
   "source": [
    "# demonstrate that there are no groups\n",
    "DATASET = \"cps/asec/mar\"\n",
    "YEAR = 2024\n",
    "\n",
    "groups = ced.variables.all_groups(DATASET, YEAR)\n",
    "groups.head()"
   ]
  },
  {
   "cell_type": "code",
   "execution_count": 6,
   "metadata": {},
   "outputs": [
    {
     "data": {
      "text/html": [
       "<div>\n",
       "<style scoped>\n",
       "    .dataframe tbody tr th:only-of-type {\n",
       "        vertical-align: middle;\n",
       "    }\n",
       "\n",
       "    .dataframe tbody tr th {\n",
       "        vertical-align: top;\n",
       "    }\n",
       "\n",
       "    .dataframe thead th {\n",
       "        text-align: right;\n",
       "    }\n",
       "</style>\n",
       "<table border=\"1\" class=\"dataframe\">\n",
       "  <thead>\n",
       "    <tr style=\"text-align: right;\">\n",
       "      <th></th>\n",
       "      <th>YEAR</th>\n",
       "      <th>DATASET</th>\n",
       "      <th>GROUP</th>\n",
       "      <th>VARIABLE</th>\n",
       "      <th>LABEL</th>\n",
       "      <th>SUGGESTED_WEIGHT</th>\n",
       "      <th>VALUES</th>\n",
       "    </tr>\n",
       "  </thead>\n",
       "  <tbody>\n",
       "    <tr>\n",
       "      <th>0</th>\n",
       "      <td>2024</td>\n",
       "      <td>cps/asec/mar</td>\n",
       "      <td>N/A</td>\n",
       "      <td>ACTC_CRD</td>\n",
       "      <td>Aditional Child Tax Credit</td>\n",
       "      <td>MARSUPWT</td>\n",
       "      <td>NaN</td>\n",
       "    </tr>\n",
       "    <tr>\n",
       "      <th>1</th>\n",
       "      <td>2024</td>\n",
       "      <td>cps/asec/mar</td>\n",
       "      <td>N/A</td>\n",
       "      <td>AGE1</td>\n",
       "      <td>Demographics, Age recode, persons 15+ years</td>\n",
       "      <td>MARSUPWT</td>\n",
       "      <td>{'9': '40 to 44 years', '6': '25 to 29 years', '5': '22 to 24 years', '4': '20 and 21 years', '8...</td>\n",
       "    </tr>\n",
       "    <tr>\n",
       "      <th>2</th>\n",
       "      <td>2024</td>\n",
       "      <td>cps/asec/mar</td>\n",
       "      <td>N/A</td>\n",
       "      <td>AGI</td>\n",
       "      <td>Federal adjusted gross income</td>\n",
       "      <td>MARSUPWT</td>\n",
       "      <td>NaN</td>\n",
       "    </tr>\n",
       "    <tr>\n",
       "      <th>3</th>\n",
       "      <td>2024</td>\n",
       "      <td>cps/asec/mar</td>\n",
       "      <td>N/A</td>\n",
       "      <td>ANN_VAL</td>\n",
       "      <td>Retirement income, annuities amount</td>\n",
       "      <td>MARSUPWT</td>\n",
       "      <td>NaN</td>\n",
       "    </tr>\n",
       "    <tr>\n",
       "      <th>4</th>\n",
       "      <td>2024</td>\n",
       "      <td>cps/asec/mar</td>\n",
       "      <td>N/A</td>\n",
       "      <td>ANN_YN</td>\n",
       "      <td>Retirement income, annuities, y/n</td>\n",
       "      <td>MARSUPWT</td>\n",
       "      <td>{'2': 'No', '0': 'Niu', '1': 'Yes'}</td>\n",
       "    </tr>\n",
       "  </tbody>\n",
       "</table>\n",
       "</div>"
      ],
      "text/plain": [
       "   YEAR       DATASET GROUP  VARIABLE  \\\n",
       "0  2024  cps/asec/mar   N/A  ACTC_CRD   \n",
       "1  2024  cps/asec/mar   N/A      AGE1   \n",
       "2  2024  cps/asec/mar   N/A       AGI   \n",
       "3  2024  cps/asec/mar   N/A   ANN_VAL   \n",
       "4  2024  cps/asec/mar   N/A    ANN_YN   \n",
       "\n",
       "                                         LABEL SUGGESTED_WEIGHT  \\\n",
       "0                   Aditional Child Tax Credit         MARSUPWT   \n",
       "1  Demographics, Age recode, persons 15+ years         MARSUPWT   \n",
       "2                Federal adjusted gross income         MARSUPWT   \n",
       "3          Retirement income, annuities amount         MARSUPWT   \n",
       "4            Retirement income, annuities, y/n         MARSUPWT   \n",
       "\n",
       "                                                                                                VALUES  \n",
       "0                                                                                                  NaN  \n",
       "1  {'9': '40 to 44 years', '6': '25 to 29 years', '5': '22 to 24 years', '4': '20 and 21 years', '8...  \n",
       "2                                                                                                  NaN  \n",
       "3                                                                                                  NaN  \n",
       "4                                                                  {'2': 'No', '0': 'Niu', '1': 'Yes'}  "
      ]
     },
     "execution_count": 6,
     "metadata": {},
     "output_type": "execute_result"
    }
   ],
   "source": [
    "# see variables with weight recs\n",
    "cps_vars = ced.variables.all_variables(DATASET, YEAR, None)\n",
    "cps_vars.head()"
   ]
  },
  {
   "cell_type": "code",
   "execution_count": 7,
   "metadata": {},
   "outputs": [
    {
     "data": {
      "text/plain": [
       "1048"
      ]
     },
     "execution_count": 7,
     "metadata": {},
     "output_type": "execute_result"
    }
   ],
   "source": [
    "# demonstrate that it's a lot\n",
    "len(cps_vars)"
   ]
  },
  {
   "cell_type": "markdown",
   "metadata": {},
   "source": [
    "## Working with Current Population Survey (CPS) Data"
   ]
  },
  {
   "cell_type": "code",
   "execution_count": 8,
   "metadata": {},
   "outputs": [],
   "source": [
    "# set your download variables\n",
    "variables = {\n",
    "    \"FPOVCUT\": \"cutoff\",\n",
    "    \"MARSUPWT\": \"person_weight\",\n",
    "    \"FTOTVAL\": \"family_income\",\n",
    "    \"FSUP_WGT\": \"family_weight\",\n",
    "    \"A_AGE\": \"age\",\n",
    "    \"FAMLIS\": \"family_status\",\n",
    "}"
   ]
  },
  {
   "cell_type": "code",
   "execution_count": 9,
   "metadata": {},
   "outputs": [
    {
     "data": {
      "text/html": [
       "<div>\n",
       "<style scoped>\n",
       "    .dataframe tbody tr th:only-of-type {\n",
       "        vertical-align: middle;\n",
       "    }\n",
       "\n",
       "    .dataframe tbody tr th {\n",
       "        vertical-align: top;\n",
       "    }\n",
       "\n",
       "    .dataframe thead th {\n",
       "        text-align: right;\n",
       "    }\n",
       "</style>\n",
       "<table border=\"1\" class=\"dataframe\">\n",
       "  <thead>\n",
       "    <tr style=\"text-align: right;\">\n",
       "      <th></th>\n",
       "      <th>YEAR</th>\n",
       "      <th>DATASET</th>\n",
       "      <th>GROUP</th>\n",
       "      <th>VARIABLE</th>\n",
       "      <th>LABEL</th>\n",
       "      <th>SUGGESTED_WEIGHT</th>\n",
       "      <th>VALUES</th>\n",
       "    </tr>\n",
       "  </thead>\n",
       "  <tbody>\n",
       "    <tr>\n",
       "      <th>21</th>\n",
       "      <td>2024</td>\n",
       "      <td>cps/asec/mar</td>\n",
       "      <td>N/A</td>\n",
       "      <td>A_AGE</td>\n",
       "      <td>Demographics, Age</td>\n",
       "      <td>MARSUPWT</td>\n",
       "      <td>NaN</td>\n",
       "    </tr>\n",
       "    <tr>\n",
       "      <th>139</th>\n",
       "      <td>2024</td>\n",
       "      <td>cps/asec/mar</td>\n",
       "      <td>N/A</td>\n",
       "      <td>FAMLIS</td>\n",
       "      <td>ratio of fmly income level</td>\n",
       "      <td>MARSUPWT</td>\n",
       "      <td>{'4': '150 AND ABOVE THE POVERTY LEVE', '1': 'BELOW POVERTY LEVEL', '3': '125 - 149 PERCENT OF T...</td>\n",
       "    </tr>\n",
       "    <tr>\n",
       "      <th>201</th>\n",
       "      <td>2024</td>\n",
       "      <td>cps/asec/mar</td>\n",
       "      <td>N/A</td>\n",
       "      <td>FPOVCUT</td>\n",
       "      <td>poverty cutoff dollar amount</td>\n",
       "      <td>MARSUPWT</td>\n",
       "      <td>{'0': 'niu (primary and secondary individuals)', '-1': 'not in poverty unvierse (head of househo...</td>\n",
       "    </tr>\n",
       "    <tr>\n",
       "      <th>216</th>\n",
       "      <td>2024</td>\n",
       "      <td>cps/asec/mar</td>\n",
       "      <td>N/A</td>\n",
       "      <td>FSUP_WGT</td>\n",
       "      <td>Weight, March supplement - Family</td>\n",
       "      <td>NaN</td>\n",
       "      <td>None</td>\n",
       "    </tr>\n",
       "    <tr>\n",
       "      <th>218</th>\n",
       "      <td>2024</td>\n",
       "      <td>cps/asec/mar</td>\n",
       "      <td>N/A</td>\n",
       "      <td>FTOTVAL</td>\n",
       "      <td>Total income amount - Family</td>\n",
       "      <td>FSUP_WGT</td>\n",
       "      <td>NaN</td>\n",
       "    </tr>\n",
       "    <tr>\n",
       "      <th>627</th>\n",
       "      <td>2024</td>\n",
       "      <td>cps/asec/mar</td>\n",
       "      <td>N/A</td>\n",
       "      <td>MARSUPWT</td>\n",
       "      <td>Weight, March supplement - Person</td>\n",
       "      <td>NaN</td>\n",
       "      <td>None</td>\n",
       "    </tr>\n",
       "  </tbody>\n",
       "</table>\n",
       "</div>"
      ],
      "text/plain": [
       "     YEAR       DATASET GROUP  VARIABLE                              LABEL  \\\n",
       "21   2024  cps/asec/mar   N/A     A_AGE                  Demographics, Age   \n",
       "139  2024  cps/asec/mar   N/A    FAMLIS         ratio of fmly income level   \n",
       "201  2024  cps/asec/mar   N/A   FPOVCUT       poverty cutoff dollar amount   \n",
       "216  2024  cps/asec/mar   N/A  FSUP_WGT  Weight, March supplement - Family   \n",
       "218  2024  cps/asec/mar   N/A   FTOTVAL       Total income amount - Family   \n",
       "627  2024  cps/asec/mar   N/A  MARSUPWT  Weight, March supplement - Person   \n",
       "\n",
       "    SUGGESTED_WEIGHT  \\\n",
       "21          MARSUPWT   \n",
       "139         MARSUPWT   \n",
       "201         MARSUPWT   \n",
       "216              NaN   \n",
       "218         FSUP_WGT   \n",
       "627              NaN   \n",
       "\n",
       "                                                                                                  VALUES  \n",
       "21                                                                                                   NaN  \n",
       "139  {'4': '150 AND ABOVE THE POVERTY LEVE', '1': 'BELOW POVERTY LEVEL', '3': '125 - 149 PERCENT OF T...  \n",
       "201  {'0': 'niu (primary and secondary individuals)', '-1': 'not in poverty unvierse (head of househo...  \n",
       "216                                                                                                 None  \n",
       "218                                                                                                  NaN  \n",
       "627                                                                                                 None  "
      ]
     },
     "execution_count": 9,
     "metadata": {},
     "output_type": "execute_result"
    }
   ],
   "source": [
    "# use isin to check the variables\n",
    "cps_vars[ cps_vars[\"VARIABLE\"].isin(variables.keys()) ]\n",
    "# the variables table contains the suggested weight \n",
    "# More info at CPS docs: https://www2.census.gov/programs-surveys/cps/techdocs/cpsmar24.pdf"
   ]
  },
  {
   "cell_type": "code",
   "execution_count": 10,
   "metadata": {},
   "outputs": [
    {
     "data": {
      "text/html": [
       "<div>\n",
       "<style scoped>\n",
       "    .dataframe tbody tr th:only-of-type {\n",
       "        vertical-align: middle;\n",
       "    }\n",
       "\n",
       "    .dataframe tbody tr th {\n",
       "        vertical-align: top;\n",
       "    }\n",
       "\n",
       "    .dataframe thead th {\n",
       "        text-align: right;\n",
       "    }\n",
       "</style>\n",
       "<table border=\"1\" class=\"dataframe\">\n",
       "  <thead>\n",
       "    <tr style=\"text-align: right;\">\n",
       "      <th></th>\n",
       "      <th>STATE</th>\n",
       "      <th>cutoff</th>\n",
       "      <th>person_weight</th>\n",
       "      <th>family_income</th>\n",
       "      <th>family_weight</th>\n",
       "      <th>age</th>\n",
       "      <th>family_status</th>\n",
       "    </tr>\n",
       "  </thead>\n",
       "  <tbody>\n",
       "    <tr>\n",
       "      <th>0</th>\n",
       "      <td>33</td>\n",
       "      <td>18418</td>\n",
       "      <td>1061.89</td>\n",
       "      <td>262579</td>\n",
       "      <td>1061.89</td>\n",
       "      <td>68</td>\n",
       "      <td>4</td>\n",
       "    </tr>\n",
       "    <tr>\n",
       "      <th>1</th>\n",
       "      <td>33</td>\n",
       "      <td>18418</td>\n",
       "      <td>1061.89</td>\n",
       "      <td>262579</td>\n",
       "      <td>1061.89</td>\n",
       "      <td>68</td>\n",
       "      <td>4</td>\n",
       "    </tr>\n",
       "    <tr>\n",
       "      <th>2</th>\n",
       "      <td>36</td>\n",
       "      <td>15852</td>\n",
       "      <td>4788.10</td>\n",
       "      <td>96802</td>\n",
       "      <td>4788.10</td>\n",
       "      <td>58</td>\n",
       "      <td>4</td>\n",
       "    </tr>\n",
       "    <tr>\n",
       "      <th>3</th>\n",
       "      <td>36</td>\n",
       "      <td>18418</td>\n",
       "      <td>5180.75</td>\n",
       "      <td>104000</td>\n",
       "      <td>5180.75</td>\n",
       "      <td>71</td>\n",
       "      <td>4</td>\n",
       "    </tr>\n",
       "    <tr>\n",
       "      <th>4</th>\n",
       "      <td>36</td>\n",
       "      <td>18418</td>\n",
       "      <td>5180.75</td>\n",
       "      <td>104000</td>\n",
       "      <td>5180.75</td>\n",
       "      <td>70</td>\n",
       "      <td>4</td>\n",
       "    </tr>\n",
       "  </tbody>\n",
       "</table>\n",
       "</div>"
      ],
      "text/plain": [
       "  STATE  cutoff  person_weight  family_income  family_weight  age  \\\n",
       "0    33   18418        1061.89         262579        1061.89   68   \n",
       "1    33   18418        1061.89         262579        1061.89   68   \n",
       "2    36   15852        4788.10          96802        4788.10   58   \n",
       "3    36   18418        5180.75         104000        5180.75   71   \n",
       "4    36   18418        5180.75         104000        5180.75   70   \n",
       "\n",
       "   family_status  \n",
       "0              4  \n",
       "1              4  \n",
       "2              4  \n",
       "3              4  \n",
       "4              4  "
      ]
     },
     "execution_count": 10,
     "metadata": {},
     "output_type": "execute_result"
    }
   ],
   "source": [
    "# download using standard format\n",
    "asec = (\n",
    "    ced.download(\n",
    "        DATASET,\n",
    "        2024,\n",
    "        download_variables = variables.keys(),\n",
    "        state=\"*\",\n",
    "        api_key = CENSUS_API_KEY\n",
    "    )\n",
    "    # rename the columns\n",
    "    .rename( columns = variables )\n",
    ")\n",
    "\n",
    "asec[\"STATE\"] = asec[\"STATE\"].str.zfill(2)\n",
    "\n",
    "asec.head()"
   ]
  },
  {
   "cell_type": "code",
   "execution_count": null,
   "metadata": {},
   "outputs": [
    {
     "data": {
      "text/plain": [
       "np.float64(36790332.18000001)"
      ]
     },
     "execution_count": 11,
     "metadata": {},
     "output_type": "execute_result"
    }
   ],
   "source": [
    "# set a flag for poverty\n",
    "asec[\"in_poverty\"] = asec[\"family_status\"] == 1\n",
    "\n",
    "# use the flag to conditionally count the number of people in poverty\n",
    "asec[\"num_in_poverty\"] = asec[\"in_poverty\"] * asec[\"person_weight\"]\n",
    "\n",
    "# sum the number of people in poverty in the US\n",
    "asec[\"num_in_poverty\"].sum()\n"
   ]
  },
  {
   "cell_type": "code",
   "execution_count": 12,
   "metadata": {},
   "outputs": [
    {
     "data": {
      "text/plain": [
       "np.float64(0.110686735407087)"
      ]
     },
     "execution_count": 12,
     "metadata": {},
     "output_type": "execute_result"
    }
   ],
   "source": [
    "# how to get the poverty rate\n",
    "asec[\"num_in_poverty\"].sum() / asec[\"person_weight\"].sum()"
   ]
  },
  {
   "cell_type": "code",
   "execution_count": 13,
   "metadata": {},
   "outputs": [
    {
     "data": {
      "text/html": [
       "<div>\n",
       "<style scoped>\n",
       "    .dataframe tbody tr th:only-of-type {\n",
       "        vertical-align: middle;\n",
       "    }\n",
       "\n",
       "    .dataframe tbody tr th {\n",
       "        vertical-align: top;\n",
       "    }\n",
       "\n",
       "    .dataframe thead th {\n",
       "        text-align: right;\n",
       "    }\n",
       "</style>\n",
       "<table border=\"1\" class=\"dataframe\">\n",
       "  <thead>\n",
       "    <tr style=\"text-align: right;\">\n",
       "      <th></th>\n",
       "      <th>poverty_rate</th>\n",
       "    </tr>\n",
       "    <tr>\n",
       "      <th>STATE</th>\n",
       "      <th></th>\n",
       "    </tr>\n",
       "  </thead>\n",
       "  <tbody>\n",
       "    <tr>\n",
       "      <th>01</th>\n",
       "      <td>14.212185</td>\n",
       "    </tr>\n",
       "    <tr>\n",
       "      <th>02</th>\n",
       "      <td>10.015762</td>\n",
       "    </tr>\n",
       "    <tr>\n",
       "      <th>04</th>\n",
       "      <td>11.908932</td>\n",
       "    </tr>\n",
       "    <tr>\n",
       "      <th>05</th>\n",
       "      <td>13.790364</td>\n",
       "    </tr>\n",
       "    <tr>\n",
       "      <th>06</th>\n",
       "      <td>11.829573</td>\n",
       "    </tr>\n",
       "  </tbody>\n",
       "</table>\n",
       "</div>"
      ],
      "text/plain": [
       "       poverty_rate\n",
       "STATE              \n",
       "01        14.212185\n",
       "02        10.015762\n",
       "04        11.908932\n",
       "05        13.790364\n",
       "06        11.829573"
      ]
     },
     "execution_count": 13,
     "metadata": {},
     "output_type": "execute_result"
    }
   ],
   "source": [
    "# calculate the poverty rate\n",
    "state_rates = (\n",
    "    asec\n",
    "    .groupby(\"STATE\")\n",
    "    .apply(\n",
    "        lambda x: x[\"num_in_poverty\"].sum() / x[\"person_weight\"].sum() * 100,\n",
    "        include_groups = False\n",
    "    )\n",
    "    .to_frame(\"poverty_rate\")\n",
    ")\n",
    "\n",
    "state_rates.head()"
   ]
  },
  {
   "cell_type": "markdown",
   "metadata": {},
   "source": [
    "## Get to Mapping"
   ]
  },
  {
   "cell_type": "code",
   "execution_count": 14,
   "metadata": {},
   "outputs": [
    {
     "data": {
      "text/html": [
       "<div>\n",
       "<style scoped>\n",
       "    .dataframe tbody tr th:only-of-type {\n",
       "        vertical-align: middle;\n",
       "    }\n",
       "\n",
       "    .dataframe tbody tr th {\n",
       "        vertical-align: top;\n",
       "    }\n",
       "\n",
       "    .dataframe thead th {\n",
       "        text-align: right;\n",
       "    }\n",
       "</style>\n",
       "<table border=\"1\" class=\"dataframe\">\n",
       "  <thead>\n",
       "    <tr style=\"text-align: right;\">\n",
       "      <th></th>\n",
       "      <th>STATE</th>\n",
       "      <th>NAME</th>\n",
       "      <th>geometry</th>\n",
       "    </tr>\n",
       "  </thead>\n",
       "  <tbody>\n",
       "    <tr>\n",
       "      <th>0</th>\n",
       "      <td>01</td>\n",
       "      <td>Alabama</td>\n",
       "      <td>MULTIPOLYGON (((-88.05338 30.50699, -88.05109 30.50886, -88.04565 30.51331, -88.04197 30.51738, ...</td>\n",
       "    </tr>\n",
       "    <tr>\n",
       "      <th>1</th>\n",
       "      <td>02</td>\n",
       "      <td>Alaska</td>\n",
       "      <td>MULTIPOLYGON (((-131.61758 54.94795, -131.61073 54.95101, -131.60693 54.95439, -131.60084 54.955...</td>\n",
       "    </tr>\n",
       "    <tr>\n",
       "      <th>2</th>\n",
       "      <td>04</td>\n",
       "      <td>Arizona</td>\n",
       "      <td>POLYGON ((-114.81629 32.50804, -114.81432 32.50902, -114.81183 32.50864, -114.81016 32.50838, -1...</td>\n",
       "    </tr>\n",
       "    <tr>\n",
       "      <th>3</th>\n",
       "      <td>05</td>\n",
       "      <td>Arkansas</td>\n",
       "      <td>POLYGON ((-94.61792 36.49941, -94.61765 36.49941, -94.55929 36.4995, -94.55465 36.49946, -94.519...</td>\n",
       "    </tr>\n",
       "    <tr>\n",
       "      <th>4</th>\n",
       "      <td>06</td>\n",
       "      <td>California</td>\n",
       "      <td>MULTIPOLYGON (((-118.60442 33.47855, -118.59878 33.47794, -118.58594 33.47382, -118.58026 33.475...</td>\n",
       "    </tr>\n",
       "  </tbody>\n",
       "</table>\n",
       "</div>"
      ],
      "text/plain": [
       "  STATE        NAME  \\\n",
       "0    01     Alabama   \n",
       "1    02      Alaska   \n",
       "2    04     Arizona   \n",
       "3    05    Arkansas   \n",
       "4    06  California   \n",
       "\n",
       "                                                                                              geometry  \n",
       "0  MULTIPOLYGON (((-88.05338 30.50699, -88.05109 30.50886, -88.04565 30.51331, -88.04197 30.51738, ...  \n",
       "1  MULTIPOLYGON (((-131.61758 54.94795, -131.61073 54.95101, -131.60693 54.95439, -131.60084 54.955...  \n",
       "2  POLYGON ((-114.81629 32.50804, -114.81432 32.50902, -114.81183 32.50864, -114.81016 32.50838, -1...  \n",
       "3  POLYGON ((-94.61792 36.49941, -94.61765 36.49941, -94.55929 36.4995, -94.55465 36.49946, -94.519...  \n",
       "4  MULTIPOLYGON (((-118.60442 33.47855, -118.59878 33.47794, -118.58594 33.47382, -118.58026 33.475...  "
      ]
     },
     "execution_count": 14,
     "metadata": {},
     "output_type": "execute_result"
    }
   ],
   "source": [
    "# get geo\n",
    "state_geo = (\n",
    "    ced\n",
    "    .download(\n",
    "        \"acs/acs1\", \n",
    "        2023, \n",
    "        download_variables=[\"NAME\"], \n",
    "        state=\"*\",\n",
    "        with_geometry = True\n",
    "    )\n",
    ")  \n",
    "\n",
    "state_geo.head()"
   ]
  },
  {
   "cell_type": "code",
   "execution_count": 15,
   "metadata": {},
   "outputs": [
    {
     "data": {
      "text/html": [
       "<div>\n",
       "<style scoped>\n",
       "    .dataframe tbody tr th:only-of-type {\n",
       "        vertical-align: middle;\n",
       "    }\n",
       "\n",
       "    .dataframe tbody tr th {\n",
       "        vertical-align: top;\n",
       "    }\n",
       "\n",
       "    .dataframe thead th {\n",
       "        text-align: right;\n",
       "    }\n",
       "</style>\n",
       "<table border=\"1\" class=\"dataframe\">\n",
       "  <thead>\n",
       "    <tr style=\"text-align: right;\">\n",
       "      <th></th>\n",
       "      <th>STATE</th>\n",
       "      <th>NAME</th>\n",
       "      <th>geometry</th>\n",
       "      <th>poverty_rate</th>\n",
       "    </tr>\n",
       "  </thead>\n",
       "  <tbody>\n",
       "    <tr>\n",
       "      <th>0</th>\n",
       "      <td>01</td>\n",
       "      <td>Alabama</td>\n",
       "      <td>MULTIPOLYGON (((-88.05338 30.50699, -88.05109 30.50886, -88.04565 30.51331, -88.04197 30.51738, ...</td>\n",
       "      <td>14.212185</td>\n",
       "    </tr>\n",
       "    <tr>\n",
       "      <th>1</th>\n",
       "      <td>02</td>\n",
       "      <td>Alaska</td>\n",
       "      <td>MULTIPOLYGON (((-131.61758 54.94795, -131.61073 54.95101, -131.60693 54.95439, -131.60084 54.955...</td>\n",
       "      <td>10.015762</td>\n",
       "    </tr>\n",
       "    <tr>\n",
       "      <th>2</th>\n",
       "      <td>04</td>\n",
       "      <td>Arizona</td>\n",
       "      <td>POLYGON ((-114.81629 32.50804, -114.81432 32.50902, -114.81183 32.50864, -114.81016 32.50838, -1...</td>\n",
       "      <td>11.908932</td>\n",
       "    </tr>\n",
       "    <tr>\n",
       "      <th>3</th>\n",
       "      <td>05</td>\n",
       "      <td>Arkansas</td>\n",
       "      <td>POLYGON ((-94.61792 36.49941, -94.61765 36.49941, -94.55929 36.4995, -94.55465 36.49946, -94.519...</td>\n",
       "      <td>13.790364</td>\n",
       "    </tr>\n",
       "    <tr>\n",
       "      <th>4</th>\n",
       "      <td>06</td>\n",
       "      <td>California</td>\n",
       "      <td>MULTIPOLYGON (((-118.60442 33.47855, -118.59878 33.47794, -118.58594 33.47382, -118.58026 33.475...</td>\n",
       "      <td>11.829573</td>\n",
       "    </tr>\n",
       "  </tbody>\n",
       "</table>\n",
       "</div>"
      ],
      "text/plain": [
       "  STATE        NAME  \\\n",
       "0    01     Alabama   \n",
       "1    02      Alaska   \n",
       "2    04     Arizona   \n",
       "3    05    Arkansas   \n",
       "4    06  California   \n",
       "\n",
       "                                                                                              geometry  \\\n",
       "0  MULTIPOLYGON (((-88.05338 30.50699, -88.05109 30.50886, -88.04565 30.51331, -88.04197 30.51738, ...   \n",
       "1  MULTIPOLYGON (((-131.61758 54.94795, -131.61073 54.95101, -131.60693 54.95439, -131.60084 54.955...   \n",
       "2  POLYGON ((-114.81629 32.50804, -114.81432 32.50902, -114.81183 32.50864, -114.81016 32.50838, -1...   \n",
       "3  POLYGON ((-94.61792 36.49941, -94.61765 36.49941, -94.55929 36.4995, -94.55465 36.49946, -94.519...   \n",
       "4  MULTIPOLYGON (((-118.60442 33.47855, -118.59878 33.47794, -118.58594 33.47382, -118.58026 33.475...   \n",
       "\n",
       "   poverty_rate  \n",
       "0     14.212185  \n",
       "1     10.015762  \n",
       "2     11.908932  \n",
       "3     13.790364  \n",
       "4     11.829573  "
      ]
     },
     "execution_count": 15,
     "metadata": {},
     "output_type": "execute_result"
    }
   ],
   "source": [
    "with_geo = (\n",
    "    state_geo\n",
    "    .merge(\n",
    "        state_rates,\n",
    "        on = \"STATE\"\n",
    "    )\n",
    ")\n",
    "\n",
    "with_geo.head()"
   ]
  },
  {
   "cell_type": "code",
   "execution_count": 16,
   "metadata": {},
   "outputs": [
    {
     "data": {
      "text/plain": [
       "Text(0.5, 1.0, 'Poverty rates by state')"
      ]
     },
     "execution_count": 16,
     "metadata": {},
     "output_type": "execute_result"
    },
    {
     "data": {
      "image/png": "[encoded data removed]",
      "text/plain": [
       "<Figure size 1000x500 with 2 Axes>"
      ]
     },
     "metadata": {},
     "output_type": "display_data"
    }
   ],
   "source": [
    "# plot the poverty rates\n",
    "ax = cem.plot_us(\n",
    "    with_geo,\n",
    "    column = \"poverty_rate\",\n",
    "    # extras\n",
    "    figsize = (10, 5),\n",
    "    legend = True,\n",
    "    cmap = \"Blues\",\n",
    "    vmin = 0,\n",
    "    vmax = 25,\n",
    "    edgecolor = \"black\",\n",
    "    linewidth = 0.3\n",
    ")\n",
    "\n",
    "ax.axis(\"off\")\n",
    "ax.set_title(\"Poverty rates by state\")"
   ]
  },
  {
   "cell_type": "markdown",
   "metadata": {},
   "source": [
    "---\n",
    "---\n",
    "---"
   ]
  }
 ],
 "metadata": {
  "kernelspec": {
   "display_name": "venv",
   "language": "python",
   "name": "python3"
  },
  "language_info": {
   "codemirror_mode": {
    "name": "ipython",
    "version": 3
   },
   "file_extension": ".py",
   "mimetype": "text/x-python",
   "name": "python",
   "nbconvert_exporter": "python",
   "pygments_lexer": "ipython3",
   "version": "3.13.2"
  }
 },
 "nbformat": 4,
 "nbformat_minor": 2
}
